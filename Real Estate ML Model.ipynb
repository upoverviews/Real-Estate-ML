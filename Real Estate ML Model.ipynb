{
 "cells": [
  {
   "cell_type": "code",
   "execution_count": 1,
   "id": "58a4fdfe",
   "metadata": {},
   "outputs": [],
   "source": [
    "import pandas as pd\n",
    "import numpy as np\n",
    "import matplotlib.pyplot as plt\n",
    "import seaborn as sns\n",
    "from sklearn import linear_model"
   ]
  },
  {
   "cell_type": "code",
   "execution_count": 2,
   "id": "817144cf",
   "metadata": {},
   "outputs": [],
   "source": [
    "re = pd.read_csv('Real Estate.csv')"
   ]
  },
  {
   "cell_type": "code",
   "execution_count": 3,
   "id": "99e18e19",
   "metadata": {},
   "outputs": [
    {
     "data": {
      "text/html": [
       "<div>\n",
       "<style scoped>\n",
       "    .dataframe tbody tr th:only-of-type {\n",
       "        vertical-align: middle;\n",
       "    }\n",
       "\n",
       "    .dataframe tbody tr th {\n",
       "        vertical-align: top;\n",
       "    }\n",
       "\n",
       "    .dataframe thead th {\n",
       "        text-align: right;\n",
       "    }\n",
       "</style>\n",
       "<table border=\"1\" class=\"dataframe\">\n",
       "  <thead>\n",
       "    <tr style=\"text-align: right;\">\n",
       "      <th></th>\n",
       "      <th>Bed Room</th>\n",
       "      <th>BHK</th>\n",
       "      <th>Place</th>\n",
       "      <th>Price</th>\n",
       "      <th>Sq Ft</th>\n",
       "      <th>Dealer Type</th>\n",
       "    </tr>\n",
       "  </thead>\n",
       "  <tbody>\n",
       "    <tr>\n",
       "      <th>0</th>\n",
       "      <td>2</td>\n",
       "      <td>BHK</td>\n",
       "      <td>Kolkata</td>\n",
       "      <td>62.37</td>\n",
       "      <td>945</td>\n",
       "      <td>Broker</td>\n",
       "    </tr>\n",
       "    <tr>\n",
       "      <th>1</th>\n",
       "      <td>2</td>\n",
       "      <td>BHK</td>\n",
       "      <td>Kolkata</td>\n",
       "      <td>79.56</td>\n",
       "      <td>1170</td>\n",
       "      <td>Broker</td>\n",
       "    </tr>\n",
       "    <tr>\n",
       "      <th>2</th>\n",
       "      <td>3</td>\n",
       "      <td>BHK</td>\n",
       "      <td>Kolkata</td>\n",
       "      <td>75.00</td>\n",
       "      <td>1090</td>\n",
       "      <td>Broker</td>\n",
       "    </tr>\n",
       "    <tr>\n",
       "      <th>3</th>\n",
       "      <td>3</td>\n",
       "      <td>BHK</td>\n",
       "      <td>Kolkata</td>\n",
       "      <td>62.67</td>\n",
       "      <td>1177</td>\n",
       "      <td>Broker</td>\n",
       "    </tr>\n",
       "    <tr>\n",
       "      <th>4</th>\n",
       "      <td>2</td>\n",
       "      <td>BHK</td>\n",
       "      <td>Kolkata</td>\n",
       "      <td>77.02</td>\n",
       "      <td>983</td>\n",
       "      <td>Broker</td>\n",
       "    </tr>\n",
       "  </tbody>\n",
       "</table>\n",
       "</div>"
      ],
      "text/plain": [
       "   Bed Room  BHK    Place  Price  Sq Ft Dealer Type\n",
       "0         2  BHK  Kolkata  62.37    945      Broker\n",
       "1         2  BHK  Kolkata  79.56   1170      Broker\n",
       "2         3  BHK  Kolkata  75.00   1090      Broker\n",
       "3         3  BHK  Kolkata  62.67   1177      Broker\n",
       "4         2  BHK  Kolkata  77.02    983      Broker"
      ]
     },
     "execution_count": 3,
     "metadata": {},
     "output_type": "execute_result"
    }
   ],
   "source": [
    "re.head()"
   ]
  },
  {
   "cell_type": "code",
   "execution_count": 4,
   "id": "7b8d68c9",
   "metadata": {},
   "outputs": [
    {
     "data": {
      "text/html": [
       "<div>\n",
       "<style scoped>\n",
       "    .dataframe tbody tr th:only-of-type {\n",
       "        vertical-align: middle;\n",
       "    }\n",
       "\n",
       "    .dataframe tbody tr th {\n",
       "        vertical-align: top;\n",
       "    }\n",
       "\n",
       "    .dataframe thead th {\n",
       "        text-align: right;\n",
       "    }\n",
       "</style>\n",
       "<table border=\"1\" class=\"dataframe\">\n",
       "  <thead>\n",
       "    <tr style=\"text-align: right;\">\n",
       "      <th></th>\n",
       "      <th>Bed Room</th>\n",
       "      <th>Price</th>\n",
       "      <th>Sq Ft</th>\n",
       "    </tr>\n",
       "  </thead>\n",
       "  <tbody>\n",
       "    <tr>\n",
       "      <th>count</th>\n",
       "      <td>10611.000000</td>\n",
       "      <td>10611.000000</td>\n",
       "      <td>10611.000000</td>\n",
       "    </tr>\n",
       "    <tr>\n",
       "      <th>mean</th>\n",
       "      <td>2.283574</td>\n",
       "      <td>41.369428</td>\n",
       "      <td>991.451701</td>\n",
       "    </tr>\n",
       "    <tr>\n",
       "      <th>std</th>\n",
       "      <td>0.654552</td>\n",
       "      <td>20.708305</td>\n",
       "      <td>333.792368</td>\n",
       "    </tr>\n",
       "    <tr>\n",
       "      <th>min</th>\n",
       "      <td>1.000000</td>\n",
       "      <td>5.000000</td>\n",
       "      <td>155.000000</td>\n",
       "    </tr>\n",
       "    <tr>\n",
       "      <th>25%</th>\n",
       "      <td>2.000000</td>\n",
       "      <td>26.080000</td>\n",
       "      <td>794.500000</td>\n",
       "    </tr>\n",
       "    <tr>\n",
       "      <th>50%</th>\n",
       "      <td>2.000000</td>\n",
       "      <td>36.110000</td>\n",
       "      <td>952.000000</td>\n",
       "    </tr>\n",
       "    <tr>\n",
       "      <th>75%</th>\n",
       "      <td>3.000000</td>\n",
       "      <td>52.650000</td>\n",
       "      <td>1164.000000</td>\n",
       "    </tr>\n",
       "    <tr>\n",
       "      <th>max</th>\n",
       "      <td>4.000000</td>\n",
       "      <td>99.990000</td>\n",
       "      <td>3604.000000</td>\n",
       "    </tr>\n",
       "  </tbody>\n",
       "</table>\n",
       "</div>"
      ],
      "text/plain": [
       "           Bed Room         Price         Sq Ft\n",
       "count  10611.000000  10611.000000  10611.000000\n",
       "mean       2.283574     41.369428    991.451701\n",
       "std        0.654552     20.708305    333.792368\n",
       "min        1.000000      5.000000    155.000000\n",
       "25%        2.000000     26.080000    794.500000\n",
       "50%        2.000000     36.110000    952.000000\n",
       "75%        3.000000     52.650000   1164.000000\n",
       "max        4.000000     99.990000   3604.000000"
      ]
     },
     "execution_count": 4,
     "metadata": {},
     "output_type": "execute_result"
    }
   ],
   "source": [
    "re.describe()"
   ]
  },
  {
   "cell_type": "code",
   "execution_count": 5,
   "id": "027b69b7",
   "metadata": {},
   "outputs": [],
   "source": [
    "df = re"
   ]
  },
  {
   "cell_type": "code",
   "execution_count": 6,
   "id": "8dc61ddb",
   "metadata": {},
   "outputs": [
    {
     "data": {
      "text/html": [
       "<div>\n",
       "<style scoped>\n",
       "    .dataframe tbody tr th:only-of-type {\n",
       "        vertical-align: middle;\n",
       "    }\n",
       "\n",
       "    .dataframe tbody tr th {\n",
       "        vertical-align: top;\n",
       "    }\n",
       "\n",
       "    .dataframe thead th {\n",
       "        text-align: right;\n",
       "    }\n",
       "</style>\n",
       "<table border=\"1\" class=\"dataframe\">\n",
       "  <thead>\n",
       "    <tr style=\"text-align: right;\">\n",
       "      <th></th>\n",
       "      <th>Bed Room</th>\n",
       "      <th>BHK</th>\n",
       "      <th>Place</th>\n",
       "      <th>Price</th>\n",
       "      <th>Sq Ft</th>\n",
       "      <th>Dealer Type</th>\n",
       "    </tr>\n",
       "  </thead>\n",
       "  <tbody>\n",
       "    <tr>\n",
       "      <th>0</th>\n",
       "      <td>2</td>\n",
       "      <td>BHK</td>\n",
       "      <td>Kolkata</td>\n",
       "      <td>62.37</td>\n",
       "      <td>945</td>\n",
       "      <td>Broker</td>\n",
       "    </tr>\n",
       "    <tr>\n",
       "      <th>1</th>\n",
       "      <td>2</td>\n",
       "      <td>BHK</td>\n",
       "      <td>Kolkata</td>\n",
       "      <td>79.56</td>\n",
       "      <td>1170</td>\n",
       "      <td>Broker</td>\n",
       "    </tr>\n",
       "    <tr>\n",
       "      <th>2</th>\n",
       "      <td>3</td>\n",
       "      <td>BHK</td>\n",
       "      <td>Kolkata</td>\n",
       "      <td>75.00</td>\n",
       "      <td>1090</td>\n",
       "      <td>Broker</td>\n",
       "    </tr>\n",
       "    <tr>\n",
       "      <th>3</th>\n",
       "      <td>3</td>\n",
       "      <td>BHK</td>\n",
       "      <td>Kolkata</td>\n",
       "      <td>62.67</td>\n",
       "      <td>1177</td>\n",
       "      <td>Broker</td>\n",
       "    </tr>\n",
       "    <tr>\n",
       "      <th>4</th>\n",
       "      <td>2</td>\n",
       "      <td>BHK</td>\n",
       "      <td>Kolkata</td>\n",
       "      <td>77.02</td>\n",
       "      <td>983</td>\n",
       "      <td>Broker</td>\n",
       "    </tr>\n",
       "  </tbody>\n",
       "</table>\n",
       "</div>"
      ],
      "text/plain": [
       "   Bed Room  BHK    Place  Price  Sq Ft Dealer Type\n",
       "0         2  BHK  Kolkata  62.37    945      Broker\n",
       "1         2  BHK  Kolkata  79.56   1170      Broker\n",
       "2         3  BHK  Kolkata  75.00   1090      Broker\n",
       "3         3  BHK  Kolkata  62.67   1177      Broker\n",
       "4         2  BHK  Kolkata  77.02    983      Broker"
      ]
     },
     "execution_count": 6,
     "metadata": {},
     "output_type": "execute_result"
    }
   ],
   "source": [
    "df.head()"
   ]
  },
  {
   "cell_type": "markdown",
   "id": "5d24904b",
   "metadata": {},
   "source": [
    "# Create Label from Dealer Type"
   ]
  },
  {
   "cell_type": "code",
   "execution_count": 7,
   "id": "3277eacf",
   "metadata": {},
   "outputs": [],
   "source": [
    "from sklearn.preprocessing import LabelEncoder"
   ]
  },
  {
   "cell_type": "code",
   "execution_count": 8,
   "id": "e920546c",
   "metadata": {},
   "outputs": [],
   "source": [
    "le_dealer_type = LabelEncoder()"
   ]
  },
  {
   "cell_type": "code",
   "execution_count": 9,
   "id": "a24de876",
   "metadata": {},
   "outputs": [],
   "source": [
    "df['Dealer'] = le_dealer_type.fit_transform(df['Dealer Type'])"
   ]
  },
  {
   "cell_type": "code",
   "execution_count": 10,
   "id": "86bbcb88",
   "metadata": {},
   "outputs": [],
   "source": [
    "df.drop(['Dealer Type'], axis = 1, inplace = True)"
   ]
  },
  {
   "cell_type": "code",
   "execution_count": 11,
   "id": "991531c2",
   "metadata": {},
   "outputs": [
    {
     "data": {
      "text/html": [
       "<div>\n",
       "<style scoped>\n",
       "    .dataframe tbody tr th:only-of-type {\n",
       "        vertical-align: middle;\n",
       "    }\n",
       "\n",
       "    .dataframe tbody tr th {\n",
       "        vertical-align: top;\n",
       "    }\n",
       "\n",
       "    .dataframe thead th {\n",
       "        text-align: right;\n",
       "    }\n",
       "</style>\n",
       "<table border=\"1\" class=\"dataframe\">\n",
       "  <thead>\n",
       "    <tr style=\"text-align: right;\">\n",
       "      <th></th>\n",
       "      <th>Bed Room</th>\n",
       "      <th>BHK</th>\n",
       "      <th>Place</th>\n",
       "      <th>Price</th>\n",
       "      <th>Sq Ft</th>\n",
       "      <th>Dealer</th>\n",
       "    </tr>\n",
       "  </thead>\n",
       "  <tbody>\n",
       "    <tr>\n",
       "      <th>0</th>\n",
       "      <td>2</td>\n",
       "      <td>BHK</td>\n",
       "      <td>Kolkata</td>\n",
       "      <td>62.37</td>\n",
       "      <td>945</td>\n",
       "      <td>0</td>\n",
       "    </tr>\n",
       "    <tr>\n",
       "      <th>1</th>\n",
       "      <td>2</td>\n",
       "      <td>BHK</td>\n",
       "      <td>Kolkata</td>\n",
       "      <td>79.56</td>\n",
       "      <td>1170</td>\n",
       "      <td>0</td>\n",
       "    </tr>\n",
       "    <tr>\n",
       "      <th>2</th>\n",
       "      <td>3</td>\n",
       "      <td>BHK</td>\n",
       "      <td>Kolkata</td>\n",
       "      <td>75.00</td>\n",
       "      <td>1090</td>\n",
       "      <td>0</td>\n",
       "    </tr>\n",
       "    <tr>\n",
       "      <th>3</th>\n",
       "      <td>3</td>\n",
       "      <td>BHK</td>\n",
       "      <td>Kolkata</td>\n",
       "      <td>62.67</td>\n",
       "      <td>1177</td>\n",
       "      <td>0</td>\n",
       "    </tr>\n",
       "    <tr>\n",
       "      <th>4</th>\n",
       "      <td>2</td>\n",
       "      <td>BHK</td>\n",
       "      <td>Kolkata</td>\n",
       "      <td>77.02</td>\n",
       "      <td>983</td>\n",
       "      <td>0</td>\n",
       "    </tr>\n",
       "  </tbody>\n",
       "</table>\n",
       "</div>"
      ],
      "text/plain": [
       "   Bed Room  BHK    Place  Price  Sq Ft  Dealer\n",
       "0         2  BHK  Kolkata  62.37    945       0\n",
       "1         2  BHK  Kolkata  79.56   1170       0\n",
       "2         3  BHK  Kolkata  75.00   1090       0\n",
       "3         3  BHK  Kolkata  62.67   1177       0\n",
       "4         2  BHK  Kolkata  77.02    983       0"
      ]
     },
     "execution_count": 11,
     "metadata": {},
     "output_type": "execute_result"
    }
   ],
   "source": [
    "df.head()"
   ]
  },
  {
   "cell_type": "markdown",
   "id": "dfcd4229",
   "metadata": {},
   "source": [
    "# Implement Linear Regression"
   ]
  },
  {
   "cell_type": "code",
   "execution_count": 12,
   "id": "68e88a39",
   "metadata": {},
   "outputs": [
    {
     "data": {
      "text/html": [
       "<div>\n",
       "<style scoped>\n",
       "    .dataframe tbody tr th:only-of-type {\n",
       "        vertical-align: middle;\n",
       "    }\n",
       "\n",
       "    .dataframe tbody tr th {\n",
       "        vertical-align: top;\n",
       "    }\n",
       "\n",
       "    .dataframe thead th {\n",
       "        text-align: right;\n",
       "    }\n",
       "</style>\n",
       "<table border=\"1\" class=\"dataframe\">\n",
       "  <thead>\n",
       "    <tr style=\"text-align: right;\">\n",
       "      <th></th>\n",
       "      <th>Bed Room</th>\n",
       "      <th>BHK</th>\n",
       "      <th>Place</th>\n",
       "      <th>Price</th>\n",
       "      <th>Sq Ft</th>\n",
       "      <th>Dealer</th>\n",
       "    </tr>\n",
       "  </thead>\n",
       "  <tbody>\n",
       "    <tr>\n",
       "      <th>0</th>\n",
       "      <td>2</td>\n",
       "      <td>BHK</td>\n",
       "      <td>Kolkata</td>\n",
       "      <td>62.37</td>\n",
       "      <td>945</td>\n",
       "      <td>0</td>\n",
       "    </tr>\n",
       "    <tr>\n",
       "      <th>1</th>\n",
       "      <td>2</td>\n",
       "      <td>BHK</td>\n",
       "      <td>Kolkata</td>\n",
       "      <td>79.56</td>\n",
       "      <td>1170</td>\n",
       "      <td>0</td>\n",
       "    </tr>\n",
       "    <tr>\n",
       "      <th>2</th>\n",
       "      <td>3</td>\n",
       "      <td>BHK</td>\n",
       "      <td>Kolkata</td>\n",
       "      <td>75.00</td>\n",
       "      <td>1090</td>\n",
       "      <td>0</td>\n",
       "    </tr>\n",
       "    <tr>\n",
       "      <th>3</th>\n",
       "      <td>3</td>\n",
       "      <td>BHK</td>\n",
       "      <td>Kolkata</td>\n",
       "      <td>62.67</td>\n",
       "      <td>1177</td>\n",
       "      <td>0</td>\n",
       "    </tr>\n",
       "    <tr>\n",
       "      <th>4</th>\n",
       "      <td>2</td>\n",
       "      <td>BHK</td>\n",
       "      <td>Kolkata</td>\n",
       "      <td>77.02</td>\n",
       "      <td>983</td>\n",
       "      <td>0</td>\n",
       "    </tr>\n",
       "  </tbody>\n",
       "</table>\n",
       "</div>"
      ],
      "text/plain": [
       "   Bed Room  BHK    Place  Price  Sq Ft  Dealer\n",
       "0         2  BHK  Kolkata  62.37    945       0\n",
       "1         2  BHK  Kolkata  79.56   1170       0\n",
       "2         3  BHK  Kolkata  75.00   1090       0\n",
       "3         3  BHK  Kolkata  62.67   1177       0\n",
       "4         2  BHK  Kolkata  77.02    983       0"
      ]
     },
     "execution_count": 12,
     "metadata": {},
     "output_type": "execute_result"
    }
   ],
   "source": [
    "df.head()"
   ]
  },
  {
   "cell_type": "markdown",
   "id": "51b1cb42",
   "metadata": {},
   "source": [
    "## Scatter Plot"
   ]
  },
  {
   "cell_type": "code",
   "execution_count": 13,
   "id": "0dd86b4b",
   "metadata": {},
   "outputs": [
    {
     "data": {
      "text/plain": [
       "Text(0.5, 1.0, 'Linear Regression')"
      ]
     },
     "execution_count": 13,
     "metadata": {},
     "output_type": "execute_result"
    },
    {
     "data": {
      "image/png": "[encoded data removed]",
      "text/plain": [
       "<Figure size 1200x600 with 1 Axes>"
      ]
     },
     "metadata": {},
     "output_type": "display_data"
    }
   ],
   "source": [
    "sns.lmplot(x='Sq Ft', y='Price',line_kws={\"color\":'red'},aspect=2,height=6,data=df)\n",
    "plt.title('Linear Regression')"
   ]
  },
  {
   "cell_type": "code",
   "execution_count": 14,
   "id": "f7b4d9b0",
   "metadata": {},
   "outputs": [],
   "source": [
    "x = df[['Bed Room', 'Sq Ft', 'Dealer']]\n",
    "y = df.Price"
   ]
  },
  {
   "cell_type": "code",
   "execution_count": 15,
   "id": "72c62f30",
   "metadata": {},
   "outputs": [],
   "source": [
    "lr = linear_model.LinearRegression()"
   ]
  },
  {
   "cell_type": "code",
   "execution_count": 16,
   "id": "56527bcc",
   "metadata": {},
   "outputs": [
    {
     "data": {
      "text/plain": [
       "LinearRegression()"
      ]
     },
     "execution_count": 16,
     "metadata": {},
     "output_type": "execute_result"
    }
   ],
   "source": [
    "lr.fit(x.values, y.values)"
   ]
  },
  {
   "cell_type": "code",
   "execution_count": 17,
   "id": "8e7e9ce6",
   "metadata": {},
   "outputs": [
    {
     "data": {
      "text/plain": [
       "array([ 0.86202887,  0.0443652 , -3.12452207])"
      ]
     },
     "execution_count": 17,
     "metadata": {},
     "output_type": "execute_result"
    }
   ],
   "source": [
    "lr.coef_"
   ]
  },
  {
   "cell_type": "code",
   "execution_count": 18,
   "id": "0e81c91b",
   "metadata": {},
   "outputs": [
    {
     "data": {
      "text/plain": [
       "-4.541447568358443"
      ]
     },
     "execution_count": 18,
     "metadata": {},
     "output_type": "execute_result"
    }
   ],
   "source": [
    "lr.intercept_"
   ]
  },
  {
   "cell_type": "code",
   "execution_count": 19,
   "id": "ff5238de",
   "metadata": {},
   "outputs": [
    {
     "data": {
      "text/plain": [
       "0.5407966799072943"
      ]
     },
     "execution_count": 19,
     "metadata": {},
     "output_type": "execute_result"
    }
   ],
   "source": [
    "lr.score(x.values,y)"
   ]
  },
  {
   "cell_type": "markdown",
   "id": "e4b70ac9",
   "metadata": {},
   "source": [
    "### Dealer \n",
    "0 = Broker, 1 = Builder & 2 = Individual"
   ]
  },
  {
   "cell_type": "markdown",
   "id": "b341c56f",
   "metadata": {},
   "source": [
    "## Predicts price in sequence of No. of Bed Rooms, Sq. Ft. and Dealer type"
   ]
  },
  {
   "cell_type": "code",
   "execution_count": 20,
   "id": "7f2a1a2d",
   "metadata": {},
   "outputs": [],
   "source": [
    "import joblib"
   ]
  },
  {
   "cell_type": "code",
   "execution_count": 21,
   "id": "27bd2448",
   "metadata": {},
   "outputs": [
    {
     "data": {
      "text/plain": [
       "['real_estate_ml_model']"
      ]
     },
     "execution_count": 21,
     "metadata": {},
     "output_type": "execute_result"
    }
   ],
   "source": [
    "joblib.dump(lr,'real_estate_ml_model')"
   ]
  }
 ],
 "metadata": {
  "kernelspec": {
   "display_name": "Python 3 (ipykernel)",
   "language": "python",
   "name": "python3"
  },
  "language_info": {
   "codemirror_mode": {
    "name": "ipython",
    "version": 3
   },
   "file_extension": ".py",
   "mimetype": "text/x-python",
   "name": "python",
   "nbconvert_exporter": "python",
   "pygments_lexer": "ipython3",
   "version": "3.9.13"
  }
 },
 "nbformat": 4,
 "nbformat_minor": 5
}
